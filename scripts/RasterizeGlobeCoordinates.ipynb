{
  "nbformat": 4,
  "nbformat_minor": 0,
  "metadata": {
    "colab": {
      "provenance": [],
      "authorship_tag": "ABX9TyOnAzc4vH42oB3ZgF7qJcED",
      "include_colab_link": true
    },
    "kernelspec": {
      "name": "python3",
      "display_name": "Python 3"
    },
    "language_info": {
      "name": "python"
    }
  },
  "cells": [
    {
      "cell_type": "markdown",
      "metadata": {
        "id": "view-in-github",
        "colab_type": "text"
      },
      "source": [
        "<a href=\"https://colab.research.google.com/github/oozio/hackathon-11-09/blob/main/scripts/RasterizeGlobeCoordinates.ipynb\" target=\"_parent\"><img src=\"https://colab.research.google.com/assets/colab-badge.svg\" alt=\"Open In Colab\"/></a>"
      ]
    },
    {
      "cell_type": "code",
      "source": [
        "import numpy as np"
      ],
      "metadata": {
        "id": "He7nUF62-cD2"
      },
      "execution_count": 1,
      "outputs": []
    },
    {
      "cell_type": "code",
      "execution_count": 2,
      "metadata": {
        "id": "hqQtbNzX-KVG"
      },
      "outputs": [],
      "source": [
        "latitude_granularity = 181\n",
        "longitude_granularity = 361"
      ]
    },
    {
      "cell_type": "code",
      "source": [
        "las = np.linspace(-90, 90, latitude_granularity)\n",
        "los = np.linspace(-180, 180, longitude_granularity)"
      ],
      "metadata": {
        "id": "UjGM1TF7-ZRJ"
      },
      "execution_count": 3,
      "outputs": []
    },
    {
      "cell_type": "code",
      "source": [
        "def geometry(arc_index, arc_id):\n",
        "  return {\n",
        "                \"type\": \"Polygon\",\n",
        "                \"arcs\": [[arc_index]],\n",
        "                \"id\": arc_id\n",
        "              }"
      ],
      "metadata": {
        "id": "leS2s-g9CZHU"
      },
      "execution_count": 4,
      "outputs": []
    },
    {
      "cell_type": "code",
      "source": [
        "geometries = []\n",
        "arcs = []\n",
        "for i in range(longitude_granularity - 1):\n",
        "  geometries.append(geometry(len(arcs), f\"{(-90.+las[1])/2},{(los[i]+los[i+1])/2}\"))\n",
        "  arcs.append([[-90., 0.], [las[1], los[i]], [las[1], los[i + 1]], [-90., 0.]])\n",
        "\n",
        "for i in range(1, latitude_granularity - 2):\n",
        "  for j in range(longitude_granularity - 1):\n",
        "    geometries.append(geometry(len(arcs), f\"{(las[i]+las[i+1])/2},{(los[j]+los[j+1])/2}\"))\n",
        "    arcs.append([[las[i], los[j]], [las[i + 1], los[j]], [las[i + 1], los[j + 1]], [las[i], los[j + 1]], [las[i], los[j]]])\n",
        "\n",
        "for i in range(longitude_granularity - 1):\n",
        "  geometries.append(geometry(len(arcs), f\"{(90.+las[-1])/2},{(los[i]+los[i+1])/2}\"))\n",
        "  arcs.extend([[90., 0.], [las[-1], los[i]], [las[-1], los[i + 1]], [90., 0.]])"
      ],
      "metadata": {
        "id": "pzq3EL8z-eZB"
      },
      "execution_count": 5,
      "outputs": []
    },
    {
      "cell_type": "code",
      "source": [
        "contents = {\"type\":\"Topology\",\"objects\":{\n",
        "    \"grid\":{\n",
        "        \"type\":\"GeometryCollection\",\"geometries\":geometries\n",
        "    }},\n",
        "\"arcs\": arcs}"
      ],
      "metadata": {
        "id": "CbJ4aKLs_ls8"
      },
      "execution_count": 6,
      "outputs": []
    },
    {
      "cell_type": "code",
      "source": [
        "import json"
      ],
      "metadata": {
        "id": "u8HwA6PKDoA6"
      },
      "execution_count": 7,
      "outputs": []
    },
    {
      "cell_type": "code",
      "source": [
        "json.dump(contents, open(\"grid.json\", \"w\"))"
      ],
      "metadata": {
        "id": "uIvR5kTnCLpJ"
      },
      "execution_count": 8,
      "outputs": []
    }
  ]
}